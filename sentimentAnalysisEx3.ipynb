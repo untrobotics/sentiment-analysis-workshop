{
 "cells": [
  {
   "cell_type": "code",
   "execution_count": null,
   "id": "247780af",
   "metadata": {},
   "outputs": [],
   "source": [
    "import nltk\n",
    "from nltk.sentiment import SentimentIntensityAnalyzer\n",
    "from nltk.tokenize import word_tokenize\n",
    "from nltk.corpus import stopwords\n",
    "from collections import Counter\n",
    "\n",
    "nltk.download([\"names\", \"stopwords\",\"state_union\",\"twitter_samples\",\"movie_reviews\",\"averaged_perceptron_tagger\",\"vader_lexicon\",\"punkt\",])"
   ]
  },
  {
   "cell_type": "code",
   "execution_count": null,
   "id": "3f42faa8",
   "metadata": {},
   "outputs": [],
   "source": [
    "tweets = [\"Stock market is looking bullish!\", \n",
    "          \"Stocks arent that bad today\", \n",
    "          \"Damn look at GME going to the moon\",\n",
    "          \"Feeling pretty bullish this afternoon\"]\n"
   ]
  },
  {
   "cell_type": "code",
   "execution_count": null,
   "id": "7c4689d6",
   "metadata": {},
   "outputs": [],
   "source": [
    "tokens = []\n",
    "for tweet in tweets:\n",
    "    tokens.extend(word_tokenize(tweet))\n",
    "\n",
    "tokens = [word.lower() for word in tokens]\n",
    "\n",
    "stop_words = set(stopwords.words(\"english\"))\n",
    "tokens = [word for word in tokens if word not in stop_words]\n",
    "\n",
    "word_counts = Counter(tokens)\n"
   ]
  },
  {
   "cell_type": "code",
   "execution_count": null,
   "id": "b5e3ce7f",
   "metadata": {},
   "outputs": [],
   "source": [
    "top_words = word_counts.most_common(4)\n",
    "\n",
    "for word, count in top_words:\n",
    "    print(f\"{word}: {count}\")\n"
   ]
  },
  {
   "cell_type": "code",
   "execution_count": null,
   "id": "c42355a5",
   "metadata": {},
   "outputs": [],
   "source": []
  }
 ],
 "metadata": {
  "kernelspec": {
   "display_name": "Python 3 (ipykernel)",
   "language": "python",
   "name": "python3"
  },
  "language_info": {
   "codemirror_mode": {
    "name": "ipython",
    "version": 3
   },
   "file_extension": ".py",
   "mimetype": "text/x-python",
   "name": "python",
   "nbconvert_exporter": "python",
   "pygments_lexer": "ipython3",
   "version": "3.9.7"
  }
 },
 "nbformat": 4,
 "nbformat_minor": 5
}
