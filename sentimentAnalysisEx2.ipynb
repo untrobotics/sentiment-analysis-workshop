{
 "cells": [
  {
   "cell_type": "code",
   "execution_count": null,
   "id": "e7464f66",
   "metadata": {},
   "outputs": [],
   "source": [
    "import nltk\n",
    "from nltk.sentiment import SentimentIntensityAnalyzer\n",
    "nltk.download([\"names\", \"stopwords\",\"state_union\",\"twitter_samples\",\"movie_reviews\",\"averaged_perceptron_tagger\",\"vader_lexicon\",\"punkt\",])"
   ]
  },
  {
   "cell_type": "code",
   "execution_count": null,
   "id": "c4c48f45",
   "metadata": {},
   "outputs": [],
   "source": [
    "customerReviews = [[7, \"Pretty great product. My dog loved it!\"], \n",
    "                 [2, \"Broke into pieces as soon as i opened it. 2/10\"], \n",
    "                 [1, \"i mean its alright!\"],\n",
    "                 [14, \"Some of the best enginerring in the usa. very good product.\"]]\n",
    "customerReviews"
   ]
  },
  {
   "cell_type": "code",
   "execution_count": null,
   "id": "21bf8334",
   "metadata": {},
   "outputs": [],
   "source": [
    "weights = []\n",
    "values = []\n",
    "for review in customerReviews:\n",
    "    sia = SentimentIntensityAnalyzer()\n",
    "    values.append(sia.polarity_scores(review[1])[\"compound\"])\n",
    "    weights.append(review[0])\n",
    "print(customerReviews)"
   ]
  },
  {
   "cell_type": "code",
   "execution_count": null,
   "id": "9ae11edb",
   "metadata": {},
   "outputs": [],
   "source": [
    "def weighted_average(values, weights):\n",
    "    weighted_average = (sum(weights[i]*values[i] for i in range(len(values)))) / sum(weights)\n",
    "    return weighted_average\n",
    "\n",
    "weightedSentiment = weighted_average(values, weights)\n",
    "\n",
    "weightedSentiment = round(float(weightedSentiment) / len(customerReviews), 3) * 100;\n",
    "print(str(weightedSentiment)+\"%\")\n"
   ]
  },
  {
   "cell_type": "code",
   "execution_count": null,
   "id": "078af876",
   "metadata": {},
   "outputs": [],
   "source": []
  }
 ],
 "metadata": {
  "kernelspec": {
   "display_name": "Python 3 (ipykernel)",
   "language": "python",
   "name": "python3"
  },
  "language_info": {
   "codemirror_mode": {
    "name": "ipython",
    "version": 3
   },
   "file_extension": ".py",
   "mimetype": "text/x-python",
   "name": "python",
   "nbconvert_exporter": "python",
   "pygments_lexer": "ipython3",
   "version": "3.9.7"
  }
 },
 "nbformat": 4,
 "nbformat_minor": 5
}
